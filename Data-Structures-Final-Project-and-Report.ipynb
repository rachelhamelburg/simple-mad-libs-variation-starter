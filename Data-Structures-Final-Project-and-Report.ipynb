{
 "cells": [
  {
   "cell_type": "markdown",
   "id": "79de3298",
   "metadata": {},
   "source": [
    "## Mad Libs Game\n",
    "#### Rachel Hamelburg"
   ]
  },
  {
   "cell_type": "markdown",
   "id": "faf4c3dd",
   "metadata": {},
   "source": [
    "### For an explanation of how the game works, why I chose the data structure I did, and a walktrhough of the code, please see Project Report below. No video is provided because all steps / output are captured in this notebook."
   ]
  },
  {
   "cell_type": "code",
   "execution_count": 97,
   "id": "a3ad66f1",
   "metadata": {},
   "outputs": [
    {
     "name": "stdout",
     "output_type": "stream",
     "text": [
      "Welcome to Mad Libs Create Your Own Template! You need two players to play the game. Player 1 will create a story. Player 2 will be asked for words with different parts-of-speech, without being able to see the story that player 1 created. After player 2 completes all the prompts, player 1 will read the story aloud to player 2. When both players are ready, please enter Ready Ready\n",
      "Great! Player 1: Please enter your name. Rachel\n",
      "\n",
      "Nice to meet you, Rachel. Player 2, how about you? Julia\n",
      "\n",
      "Hi, Julia. \n",
      "\n",
      "Rachel, your turn! Time to write a short story. Make sure Julia cannot see your screen! If you would like to see some title names to inspire you, that is another option! \"Write\" or \"Generate\":Generate\n",
      "\n",
      "    \n",
      "    \n",
      "Not a problem! Writing is hard. Check out these titles as a start:\n",
      " \n",
      "My Worst Nightmare\n",
      "\n",
      "The Best Place on Earth\n",
      "\n",
      "Guess What I Just Saw!\n",
      "\n",
      "Where's my Wallet?\n",
      "\n",
      "The Great Baking Disaster\n",
      "\n",
      "    \n",
      "    \n",
      "    \n",
      "If you don't like any of them, type 'More'. Otherwise, 'Ready'.More\n",
      "\n",
      "\n",
      "Here are a few more for you.\n",
      "\n",
      "The Time I Met my Favorite Celebrity\n",
      "\n",
      "How to Make My Favorite Meal\n",
      "\n",
      "If I Were President...\n",
      "\n",
      "A Snowy Day in the Park\n",
      "\n",
      "My Funniest Memory\n",
      "\n",
      "If you're feeling reaaalllly stuck, check this out: https://blog.reedsy.com/plot-generator/ . When you are ready to begin, enter a title: How to Make My Favorite Meal\n",
      "Great! I can't wait to see what you come up with!I like pizza. If you want to make a pizza, go to the store and buy your ingredients. You need fresh dough, red sauce, and cheese. Spread the sauce on the dough, and then sprinkle on some cheese. After that, put it in the oven. When it is golden-brown, your pizza is done! Enjoy your pizza!\n",
      "\n",
      "        \n",
      "        \n",
      "        \n",
      "        \n",
      "        \n",
      "        \n",
      "        \n",
      "        \n",
      "        \n",
      "        \n",
      "        \n",
      "        \n",
      "        \n",
      "        \n",
      "        \n",
      "        \n",
      "        \n",
      "        \n",
      "        \n",
      "        \n",
      "       \n",
      "       \n",
      "       \n",
      "    \n",
      "       \n",
      "Julia, your turn!\n",
      "Noun: carpenter bee\n",
      "Noun: plant\n",
      "Adjective: annoying\n",
      "Noun: rope\n",
      "Adjective: pathetic\n",
      "Noun: drum\n",
      "Noun: box\n",
      "Noun: club soda\n",
      "Noun: candle\n",
      "Noun: floor\n",
      "Past-Tense Verb: jumped\n",
      "Noun: necklace\n",
      "Adjective: shiny\n",
      "Noun: knuckle\n",
      "Noun: knee\n",
      "Your masterpiece is completed! Rachel, Ready to read? Type ready!ready\n",
      "Title: How to Make My Favorite Meal, by Rachel and Julia\n",
      "\n",
      "I like pizza . If you want to make a carpenter bee , go to the plant and buy your ingredients . You need annoying rope , pathetic drum , and box . Spread the club soda on the candle , and then sprinkle on some floor . After that , jumped it in the necklace . When it is shiny , your knuckle is done ! Enjoy your knee !\n"
     ]
    }
   ],
   "source": [
    "import nltk\n",
    "from nltk.tokenize import word_tokenize\n",
    "\n",
    "start = input(\"Welcome to Mad Libs Create Your Own Template! You need two players to play the game. Player 1 will create a story. Player 2 will be asked for words with different parts-of-speech, without being able to see the story that player 1 created. After player 2 completes all the prompts, player 1 will read the story aloud to player 2. When both players are ready, please enter Ready \")\n",
    "\n",
    "if start.lower() != 'ready':\n",
    "    input(\"Let's try that again. Type 'Ready' :)\")\n",
    "\n",
    "\n",
    "player_1 = input(f'\\nGreat! Player 1, enter your name. ')\n",
    "\n",
    "player_2 = input(f'\\nNice to meet you, {player_1}. Player 2, how about you? ')\n",
    "\n",
    "print(f'\\nHi, {player_2}. ')\n",
    "\n",
    "story = input(f'\\n{player_1}, your turn! Time to write a short story. Make sure {player_2} cannot see your screen! If you would like to see some title names to inspire you, that is another option! \"Write\" or \"Generate\":')\n",
    "if story.lower() == 'generate':\n",
    "    print('''\n",
    "    \n",
    "    ''')\n",
    "    print('Not a problem! Writing is hard. Check out these titles as a start:')\n",
    "    print(' ')\n",
    "    title_1 = 'My Worst Nightmare'\n",
    "    title_2 = 'The Best Place on Earth'\n",
    "    title_3 = 'Guess What I Just Saw!'\n",
    "    title_4 = \"Where's my Wallet?\"\n",
    "    title_5 = \"The Great Baking Disaster\"\n",
    "    print(title_5)\n",
    "    print('''\n",
    "    \n",
    "    \n",
    "    ''')\n",
    "    print(f'\\n{title_1}')\n",
    "    print(f'\\n{title_2}')\n",
    "    print(f'\\n{title_3}') \n",
    "    print(f'\\n{title_4}')\n",
    "    print(f'\\n{title_5}')\n",
    "    help_me = input(\"If you don't like any of them, type 'More'. Otherwise, 'Ready'.\")\n",
    "    print('')\n",
    "    if help_me.lower() == 'more':\n",
    "        print('')\n",
    "        title_6 = 'The Time I Met my Favorite Celebrity'\n",
    "        title_7 = 'How to Make My Favorite Meal'\n",
    "        title_8 = 'If I Were President...'        \n",
    "        title_9 = 'A Snowy Day in the Park'\n",
    "        title_10 = 'My Funniest Memory'\n",
    "        print(\"Here are a few more for you.\")\n",
    "        print(f'\\n{title_6}')\n",
    "        print(f'\\n{title_7}')\n",
    "        print(f'\\n{title_8}') \n",
    "        print(f'\\n{title_9}')\n",
    "        print(f'\\n{title_10}')\n",
    "\n",
    "        madlib_title = input(\"If you're feeling reaaalllly stuck, check this out: https://blog.reedsy.com/plot-generator/ . When you are ready to begin, enter a title: \")\n",
    "        write = input(\"Great! I can't wait to see what you come up with!\")\n",
    "    else:\n",
    "        madlib_title = input(\"Great! Let's choose a title. Either type in one from above or come up with your own, if you've been inspired: \")\n",
    "        write = input(\"Great! I can't wait to see what you come up with. Make sure only you can see the screen.\")\n",
    "else:\n",
    "    madlib_title = input(\"Great! Let's choose a title: \")\n",
    "    write = input(\"Creative! Time to start writing. Make sure Player 2 can't see your screen.\")\n",
    "\n",
    "words = word_tokenize(write)\n",
    "tagged = nltk.pos_tag(words)\n",
    "\n",
    "pos_list = ['NN', 'JJ', 'VBG', 'VBD', 'RB']\n",
    "\n",
    "# Large space to prevent player 2 from seeing the story player 1 has typed\n",
    "\n",
    "print('\\n' * 20)\n",
    "\n",
    "print(f'{player_2}, your turn!')\n",
    "for i, (word, pos) in enumerate(tagged):\n",
    "    if pos in pos_list:\n",
    "        label = (\n",
    "            \"Past-Tense Verb\" if pos == 'VBD' else\n",
    "            \"Noun\" if pos == 'NN' else\n",
    "            \"Adjective\" if pos == 'JJ' else\n",
    "            \"Verb-ING\" if pos == 'VBG' else\n",
    "            pos\n",
    "        ) \n",
    "        \n",
    "        user_input = input(f'{label}: ')\n",
    "        tagged[i] = (user_input, pos)\n",
    "\n",
    "reconstructed_story = ' '.join([word for word, pos in tagged])\n",
    "see_madlib = input(f'Your masterpiece is completed! {player_1}, Ready to read? Type ready!')\n",
    "if see_madlib.lower() == 'ready':\n",
    "    print(f'Title: {madlib_title}, by {player_1} and {player_2}')\n",
    "    print('')\n",
    "    print(reconstructed_story)\n"
   ]
  },
  {
   "cell_type": "markdown",
   "id": "8caeb10c",
   "metadata": {},
   "source": [
    "## Project Report"
   ]
  },
  {
   "cell_type": "markdown",
   "id": "cb08d785",
   "metadata": {},
   "source": [
    "For this project, I decided to implement a naive, virtual version of \"Mad Libs\". \"Mad Libs\" is a popular 2-player word game. Typically, Player 1 chooses a story from a collection of stories. Each story is mostly complete, but there are blanks where certain parts of speech (pos) would go. Player 1 prompts Player 2 for those pos's without reading them the story. At the end, Player 1 reads the story out loud to Player 2. One funny example: https://www.youtube.com/watch?v=6iClgRjmTvc&list=PLykzf464sU98HizZQOzYfvUOjjRSm9XLA&index=7 .\n",
    "\n",
    "In my application, Player 1 does not choose a story, but comes up with one. Then, the application prompts Player 2 for words, reconstructs the story with those words, and then Player 1 reads the story out loud. As we walk through the code, I will explain why / how the most appropriate structure to support my application is an array. More specifically, a dynamic array ADT with Python's list type.\n",
    "\n",
    "The first part of my code just deals with getting user input. It explains directions, asks for names of the players, and offers titles for inspiration if Player 1 needs it. You can see in the above code that I entered my name, my friend's name, asked to see two rounds of potential title options, enter one of those titles, and then created my story.\n",
    "\n",
    "The core of the application comes after the user's input, 'write' is entered, and is where I will explain the approach step-by-step. In my explanation, I will replace the user input story with some sample text for readibility and easier comprehension.\n",
    "\n",
    "To process Player 1's input, I imported a word tokenizer from NLTK, which is a library with useful packages for NLP tasks with Python. As the name suggests, the word_tokenizer tokenizes our text into words (more specifically, it tokenizes a string into a list of substrings). NLTK tokenizer and pos-tagger instantiate a list of tuples, 'tagged' (In this explanation, I've labeled it 'sample_tagged').   The tuples that the pos tagger produce are composed of this tokenized word, and its associated part of speech. Here is an example of how this works:"
   ]
  },
  {
   "cell_type": "code",
   "execution_count": 103,
   "id": "8dfc4629",
   "metadata": {},
   "outputs": [
    {
     "name": "stdout",
     "output_type": "stream",
     "text": [
      "Tokenized text ['The', 'dog', 'sleepily', 'walked', 'away', '.']\n",
      "Tagged text [('The', 'DT'), ('dog', 'NN'), ('sleepily', 'RB'), ('walked', 'VBD'), ('away', 'RB'), ('.', '.')]\n",
      "List type:  <class 'list'>\n",
      "List item type:  <class 'tuple'>\n"
     ]
    }
   ],
   "source": [
    "import nltk\n",
    "from nltk.tokenize import word_tokenize\n",
    "\n",
    "sample_text = \"The dog sleepily walked away.\"\n",
    "sample_words = word_tokenize(sample_text)\n",
    "sample_tagged = nltk.pos_tag(sample_words)\n",
    "print('Tokenized text',sample_words)\n",
    "print('Tagged text',sample_tagged)\n",
    "print('List type: ', type(sample_tagged))\n",
    "print('List item type: ', type(sample_tagged[1]))\n"
   ]
  },
  {
   "cell_type": "markdown",
   "id": "db33da80",
   "metadata": {},
   "source": [
    "At first glance, one might ask why I did not change this list into a dictionary or create a dictionary. After all, after using the NLTK pos-tagged, many go on to change the data structure for further processing, like graph representations (for understanding semantic relationships), objects and classes (for N.E.R.), and more.  I originally thought that implementing a dictionary with key (pos) value (words) pairs would be the most efficient option for this project, and was hesitant at the thought of just replacing tuple items. However, the key to successful word-games like mad libs is maintaining word position in a sentence. This is why I decided to stick with a list. In a dictionary, when several values are associated with one key, they have to be stored in an iterable, like a list. You would have to iterate all the values of that list before moving to the next key (pos). This will disturb the order of the sentence. Have a look at the output in the cell below, which shows the comparison between the original text and the modified text if we use a dictionary when a sentence contains 2 adverbs."
   ]
  },
  {
   "cell_type": "code",
   "execution_count": 1,
   "id": "d5ab1ff6",
   "metadata": {},
   "outputs": [
    {
     "name": "stdout",
     "output_type": "stream",
     "text": [
      "Original Dictionary:\n",
      "OrderedDict([('DT', ['The']), ('NN', ['dog']), ('RB', ['sleepily', 'away']), ('VBD', ['walked']), ('.', ['.'])])\n",
      "\n",
      "DT: The: The\n",
      "NN: dog: dog\n",
      "RB: sleepily: sleepily\n",
      "RB: away: away\n",
      "VBD: walked: walked\n",
      ".: .: .\n",
      "\n",
      "Modified Dictionary:\n",
      "\n",
      "OrderedDict([('DT', ['The']), ('NN', ['dog']), ('RB', ['sleepily', 'away']), ('VBD', ['walked']), ('.', ['.'])])\n",
      "\n",
      "Original Sentence: The dog sleepily walked away.\n",
      "\n",
      "Modified Sentence The dog sleepily away walked .\n"
     ]
    }
   ],
   "source": [
    "import nltk\n",
    "from nltk.tokenize import word_tokenize\n",
    "from collections import OrderedDict\n",
    "\n",
    "sample_text = \"The dog sleepily walked away.\"\n",
    "sample_words = word_tokenize(sample_text)\n",
    "sample_tagged = nltk.pos_tag(sample_words)\n",
    "\n",
    "sample_dict = OrderedDict()\n",
    "for word, pos in sample_tagged:\n",
    "    if pos not in sample_dict:\n",
    "        sample_dict[pos] = [word]\n",
    "    else:\n",
    "        sample_dict[pos].append(word)\n",
    "\n",
    "print(\"Original Dictionary:\")\n",
    "print(sample_dict)\n",
    "print('')\n",
    "\n",
    "for pos_tag, words in sample_dict.items():\n",
    "    for i in range(len(words)):\n",
    "        new_word = input(f\"{pos_tag}: {words[i]}: \")\n",
    "        words[i] = new_word\n",
    "\n",
    "print(\"\\nModified Dictionary:\")\n",
    "print('')\n",
    "print(sample_dict)\n",
    "\n",
    "modified_sentence = ' '.join(word for words in sample_dict.values() for word in words)\n",
    "print('')\n",
    "print('Original Sentence:', sample_text)\n",
    "print('')\n",
    "print('Modified Sentence', modified_sentence)"
   ]
  },
  {
   "cell_type": "markdown",
   "id": "67897eb9",
   "metadata": {},
   "source": [
    "On the other hand, with a list of tuples, the order of the words in every sentence is maintained. We can replace tuple items at particular indices with ease.\n",
    "\n",
    "After insantiating 'tagged', I made a list called pos_list containing the relevant pos's (those which I wanted to extract for my project implementation).  You'll notice below that I only chose 5 pos's - nouns, adjectives, verb-ings, past-tense verbs, and adverbs, respectively. I did so because Player 1 creating the story already allows for great variability in sentence structure. In short, it already has the potential to get pretty whacky, so I didn't want to implement too many possible changes at the expense of interpretability. "
   ]
  },
  {
   "cell_type": "code",
   "execution_count": 3,
   "id": "98715110",
   "metadata": {},
   "outputs": [],
   "source": [
    "pos_list_sample = ['NN', 'JJ', 'VBG', 'VBD', 'RB']"
   ]
  },
  {
   "cell_type": "markdown",
   "id": "5e71a416",
   "metadata": {},
   "source": [
    "The next step is to iterate through the list, the elements of the tuple, and the (index, (word, pos)) of 'tagged'. The application looks for pos's in 'tagged' list that match those in pos list. For those matches, we create user-friendly labels, so that the user is prompted with \"Noun, Adjective, etc.\", instead of Penn Treebank syntax: \"NN\", \"JJ\". The last line replaces the tuple at the appropriate index with their input and pos. This is another benefit of the list in Python, and another reason why I chose it - because it is mutable and dynamic. So, while we can't change the items within the tuple without replacing it entirely, we can at least add and remove tuples as we please."
   ]
  },
  {
   "cell_type": "code",
   "execution_count": 6,
   "id": "cc2a762e",
   "metadata": {},
   "outputs": [
    {
     "name": "stdout",
     "output_type": "stream",
     "text": [
      "\n",
      "('The', 'DT')\n",
      "Noun: cat\n",
      "\n",
      "('cat', 'NN')\n",
      "Adverb: happily\n",
      "\n",
      "('happily', 'RB')\n",
      "Past-Tense Verb: pranced\n",
      "\n",
      "('pranced', 'VBD')\n",
      "Adverb: along\n",
      "\n",
      "('along', 'RB')\n",
      "\n",
      "('.', '.')\n"
     ]
    }
   ],
   "source": [
    "for i, (word_sample, pos_sample) in enumerate(sample_tagged):\n",
    "    if pos_sample in pos_list_sample:\n",
    "        label_sample = (\n",
    "            \"Noun\" if pos_sample == 'NN' else\n",
    "            \"Adverb\" if pos_sample == 'RB' else\n",
    "            \"Past-Tense Verb\" if pos_sample == 'VBD' else\n",
    "            \"Verb-ING\" if pos_sample == 'VBG' else\n",
    "            \"Unknown\"   \n",
    "        )\n",
    "        user_input_sample = input(f'{label_sample}: ')\n",
    "        sample_tagged[i] = (user_input_sample, pos_sample)\n",
    "    print(f'\\n{sample_tagged[i]}')"
   ]
  },
  {
   "cell_type": "markdown",
   "id": "b97ae01a",
   "metadata": {},
   "source": [
    "Then, all that is left to do is rebuild the text! This is yet another reason why the array is integral. We can use \"join\" to join a list's elements, separated by a space, which allows us to read the output as a sequence of sentences."
   ]
  },
  {
   "cell_type": "code",
   "execution_count": 94,
   "id": "2be7110e",
   "metadata": {},
   "outputs": [
    {
     "name": "stdout",
     "output_type": "stream",
     "text": [
      "Original Sentence: The dog sleepily walked away.\n",
      "Modified Sentence: The cat happily pranced along .\n"
     ]
    }
   ],
   "source": [
    "reconstructed_sentence_sample = ' '.join([word_sample for word_sample, pos_sample in sample_tagged])\n",
    "print(\"Original Sentence:\", sample_text)\n",
    "print(\"Modified Sentence:\", reconstructed_sentence_sample)"
   ]
  },
  {
   "cell_type": "markdown",
   "id": "ee8bb8bf",
   "metadata": {},
   "source": [
    "As you can probably tell, the NLTK pos tagger is not perfect. It doesn't totally capture information about plurality, among other limitations. I think the integration of a LLM would be great for this project. You could have it generate stories based on an idea you have, and its understanding of pos's undoubtedly has the potential to be more robust."
   ]
  },
  {
   "cell_type": "code",
   "execution_count": null,
   "id": "36e65532",
   "metadata": {},
   "outputs": [],
   "source": []
  }
 ],
 "metadata": {
  "kernelspec": {
   "display_name": "Python 3 (ipykernel)",
   "language": "python",
   "name": "python3"
  },
  "language_info": {
   "codemirror_mode": {
    "name": "ipython",
    "version": 3
   },
   "file_extension": ".py",
   "mimetype": "text/x-python",
   "name": "python",
   "nbconvert_exporter": "python",
   "pygments_lexer": "ipython3",
   "version": "3.11.3"
  }
 },
 "nbformat": 4,
 "nbformat_minor": 5
}
